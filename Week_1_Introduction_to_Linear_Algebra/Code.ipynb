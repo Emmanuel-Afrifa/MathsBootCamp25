{
 "cells": [
  {
   "cell_type": "markdown",
   "id": "c9be410b-4ad7-4078-b41d-495ef267fd78",
   "metadata": {},
   "source": [
    "# Principal Component Analysis - Pizza Nutrient Component Dataset\n",
    "\n",
    "\n",
    "![Pizza Image](https://www.verywellfit.com/thmb/L1PlF3naZOdch6a4guxSesnWrOQ=/1500x0/filters:no_upscale():max_bytes(150000):strip_icc()/pizza_annotated3-bb1cf56718e1456a8e5bdc3536ee5728.jpg)\n",
    "\n",
    "\n",
    "<em><a href=\"https://www.verywellfit.com/pizza-pointers-3495882\">How Many Calories Are in Pizza?</a>. Nutrient Composition of a Slice of Pizza. Photo by Verywell / Alexandra Shytsman</em></p>\n",
    "\n",
    "\n",
    "# Dataset Description and Required Libraries\n",
    "\n",
    "## Dataset Description\n",
    "\n",
    "The dataset we'll be using for this practical session is called \"Pizza.csv\". It contains nutrient analysis data of pizzas, including measurements of moisture, protein, fat, ash, sodium, carbohydrates, and calories per 100 grams in the sample. The dataset also includes the pizza brand as a class label.\n",
    "\n",
    "Source: Data.world https://data.world/sdhilip/pizza-datasets\n",
    "\n",
    "### Dataset Columns:\n",
    "- brand: Pizza brand (class label)\n",
    "- id: Sample analyzed\n",
    "- mois: Amount of water per 100 grams in the sample\n",
    "- prot: Amount of protein per 100 grams in the sample\n",
    "- fat: Amount of fat per 100 grams in the sample\n",
    "- ash: Amount of ash per 100 grams in the sample\n",
    "- sodium: Amount of sodium per 100 grams in the sample\n",
    "- carb: Amount of carbohydrates per 100 grams in the sample\n",
    "- cal: Amount of calories per 100 grams in the sample\n",
    "\n",
    "## Required Libraries\n",
    "\n",
    "For this practical session, we'll be using the following Python libraries:\n",
    "- pandas: For data manipulation and analysis\n",
    "- scikit-learn: For performing Principal Component Analysis (PCA)\n",
    "- matplotlib: For data visualization\n",
    "- numpy: For numerical computing\n",
    "\n",
    "You can install these libraries using pip if you haven't already:\n",
    "```bash\n",
    "pip install pandas scikit-learn matplotlib numpy\n"
   ]
  },
  {
   "cell_type": "code",
   "execution_count": 2,
   "id": "8a47a64a",
   "metadata": {},
   "outputs": [],
   "source": [
    "# Importing necessary libraries\n",
    "import pandas as pd\n",
    "from sklearn.decomposition import PCA\n",
    "import matplotlib.pyplot as plt\n",
    "import numpy as np"
   ]
  },
  {
   "cell_type": "markdown",
   "id": "fd661d4a",
   "metadata": {},
   "source": [
    "# Introduction to <a href=\"https://numpy.org/doc/stable/index.html\">Numpy</a>"
   ]
  },
  {
   "cell_type": "code",
   "execution_count": 3,
   "id": "2d1bd37a",
   "metadata": {},
   "outputs": [
    {
     "name": "stdout",
     "output_type": "stream",
     "text": [
      "Zeros Array:\n",
      "[[0. 0. 0.]\n",
      " [0. 0. 0.]]\n",
      "\n",
      "Ones Array:\n",
      "[[1. 1.]\n",
      " [1. 1.]\n",
      " [1. 1.]]\n"
     ]
    }
   ],
   "source": [
    "zeros_array = np.zeros((2, 3))\n",
    "print(\"Zeros Array:\")\n",
    "print(zeros_array)\n",
    "\n",
    "ones_array = np.ones((3, 2))\n",
    "print(\"\\nOnes Array:\")\n",
    "print(ones_array)"
   ]
  },
  {
   "cell_type": "code",
   "execution_count": 4,
   "id": "d2be551f",
   "metadata": {},
   "outputs": [
    {
     "name": "stdout",
     "output_type": "stream",
     "text": [
      "\n",
      "Arange Array:\n",
      "[1 3 5 7 9]\n",
      "\n",
      "Linspace Array:\n",
      "[ 0.   2.5  5.   7.5 10. ]\n"
     ]
    }
   ],
   "source": [
    "arange_array = np.arange(1, 10, 2)\n",
    "print(\"\\nArange Array:\")\n",
    "print(arange_array)\n",
    "\n",
    "linspace_array = np.linspace(0, 10, 5)\n",
    "print(\"\\nLinspace Array:\")\n",
    "print(linspace_array)"
   ]
  },
  {
   "cell_type": "code",
   "execution_count": 5,
   "id": "40c46e14",
   "metadata": {},
   "outputs": [
    {
     "name": "stdout",
     "output_type": "stream",
     "text": [
      "\n",
      "Random Array:\n",
      "[[0.63650398 0.29012315 0.89285648]\n",
      " [0.70466279 0.65392705 0.96993523]]\n",
      "\n",
      "Reshaped Array:\n",
      "[[ 0  1  2  3]\n",
      " [ 4  5  6  7]\n",
      " [ 8  9 10 11]]\n"
     ]
    }
   ],
   "source": [
    "rand_array = np.random.rand(2, 3)\n",
    "print(\"\\nRandom Array:\")\n",
    "print(rand_array)\n",
    "\n",
    "arr = np.arange(12)\n",
    "reshape_array = np.reshape(arr, (3, 4))\n",
    "print(\"\\nReshaped Array:\")\n",
    "print(reshape_array)"
   ]
  },
  {
   "cell_type": "code",
   "execution_count": 6,
   "id": "24aceafd",
   "metadata": {},
   "outputs": [
    {
     "name": "stdout",
     "output_type": "stream",
     "text": [
      "\n",
      "Concatenated Array:\n",
      "[[7 5 9 6]\n",
      " [1 4 7 8]]\n"
     ]
    }
   ],
   "source": [
    "# Concatenate arrays\n",
    "concat_array1 = np.array([[7, 5], [1, 4]])\n",
    "concat_array2 = np.array([[9, 6], [7, 8]])\n",
    "concatenated_array = np.concatenate((concat_array1, concat_array2), axis=1)\n",
    "print(\"\\nConcatenated Array:\")\n",
    "print(concatenated_array)"
   ]
  },
  {
   "cell_type": "code",
   "execution_count": 7,
   "id": "c9dd4515",
   "metadata": {},
   "outputs": [
    {
     "name": "stdout",
     "output_type": "stream",
     "text": [
      "\n",
      "Transposed Array:\n",
      "[[7 1]\n",
      " [5 4]\n",
      " [9 7]\n",
      " [6 8]]\n"
     ]
    }
   ],
   "source": [
    "# Transpose an array\n",
    "transpose_array = np.transpose(concatenated_array)\n",
    "print(\"\\nTransposed Array:\")\n",
    "print(transpose_array)"
   ]
  },
  {
   "cell_type": "code",
   "execution_count": 8,
   "id": "ed3dfe78",
   "metadata": {},
   "outputs": [
    {
     "name": "stdout",
     "output_type": "stream",
     "text": [
      "\n",
      "Dot Product Result:\n",
      "[[10 17]\n",
      " [20 36]]\n"
     ]
    }
   ],
   "source": [
    "# Compute dot product of two arrays\n",
    "dot_product_array1 = np.array([[5, 2], [8, 4]])\n",
    "dot_product_array2 = np.array([[0, -1], [5, 11]])\n",
    "dot_product_result = np.dot(dot_product_array1, dot_product_array2)\n",
    "print(\"\\nDot Product Result:\")\n",
    "print(dot_product_result)"
   ]
  },
  {
   "cell_type": "code",
   "execution_count": 9,
   "id": "568a46bb",
   "metadata": {},
   "outputs": [
    {
     "name": "stdout",
     "output_type": "stream",
     "text": [
      "\n",
      "Inverse Matrix:\n",
      "[[-2.   1. ]\n",
      " [ 1.5 -0.5]]\n"
     ]
    }
   ],
   "source": [
    "# Compute inverse of a square matrix\n",
    "square_matrix = np.array([[1, 2], [3, 4]])\n",
    "inverse_matrix = np.linalg.inv(square_matrix)\n",
    "print(\"\\nInverse Matrix:\")\n",
    "print(inverse_matrix)"
   ]
  },
  {
   "cell_type": "code",
   "execution_count": 10,
   "id": "c7a1c1b3",
   "metadata": {},
   "outputs": [
    {
     "name": "stdout",
     "output_type": "stream",
     "text": [
      "Original Array:\n",
      "[[ 3  2  3  7]\n",
      " [-1  6 -7  8]\n",
      " [-9 19  1  2]]\n",
      "\n",
      "Selecting a single element (2nd row, 3rd column): -7\n",
      "\n",
      "Selecting a row (2nd row): [-1  6 -7  8]\n",
      "\n",
      "Selecting a column (3rd column): [ 3 -7  1]\n",
      "\n",
      "Selecting a subarray (2nd and 3rd rows, 2nd and 3rd columns):\n",
      "[[ 6 -7]\n",
      " [19  1]]\n",
      "\n",
      "Modified Array (setting 0s to a subarray):\n",
      "[[ 3  2  3  7]\n",
      " [-1  0  0  8]\n",
      " [-9  0  0  2]]\n"
     ]
    }
   ],
   "source": [
    "#Slicing\n",
    "\n",
    "# Create a 2D array\n",
    "arr = np.array([[3, 2, 3, 7],\n",
    "                [-1, 6, -7, 8],\n",
    "                [-9, 19, 1, 2]])\n",
    "\n",
    "print(\"Original Array:\")\n",
    "print(arr)\n",
    "\n",
    "\n",
    "print(\"\\nSelecting a single element (2nd row, 3rd column):\", arr[1, 2])\n",
    "\n",
    "print(\"\\nSelecting a row (2nd row):\", arr[1])\n",
    "\n",
    "print(\"\\nSelecting a column (3rd column):\", arr[:, 2])\n",
    "\n",
    "print(\"\\nSelecting a subarray (2nd and 3rd rows, 2nd and 3rd columns):\")\n",
    "print(arr[1:3, 1:3])\n",
    "\n",
    "\n",
    "arr[1:3, 1:3] = 0\n",
    "print(\"\\nModified Array (setting 0s to a subarray):\")\n",
    "print(arr)"
   ]
  },
  {
   "cell_type": "code",
   "execution_count": 11,
   "id": "3f9a9f08",
   "metadata": {
    "scrolled": true
   },
   "outputs": [],
   "source": [
    "# Loading the dataset\n",
    "df = pd.read_csv(\"Pizza.csv\")"
   ]
  },
  {
   "cell_type": "code",
   "execution_count": 12,
   "id": "e7b72521",
   "metadata": {
    "scrolled": true
   },
   "outputs": [
    {
     "name": "stdout",
     "output_type": "stream",
     "text": [
      "Dataset Overview:\n"
     ]
    },
    {
     "data": {
      "text/html": [
       "<div>\n",
       "<style scoped>\n",
       "    .dataframe tbody tr th:only-of-type {\n",
       "        vertical-align: middle;\n",
       "    }\n",
       "\n",
       "    .dataframe tbody tr th {\n",
       "        vertical-align: top;\n",
       "    }\n",
       "\n",
       "    .dataframe thead th {\n",
       "        text-align: right;\n",
       "    }\n",
       "</style>\n",
       "<table border=\"1\" class=\"dataframe\">\n",
       "  <thead>\n",
       "    <tr style=\"text-align: right;\">\n",
       "      <th></th>\n",
       "      <th>brand</th>\n",
       "      <th>id</th>\n",
       "      <th>mois</th>\n",
       "      <th>prot</th>\n",
       "      <th>fat</th>\n",
       "      <th>ash</th>\n",
       "      <th>sodium</th>\n",
       "      <th>carb</th>\n",
       "      <th>cal</th>\n",
       "    </tr>\n",
       "  </thead>\n",
       "  <tbody>\n",
       "    <tr>\n",
       "      <th>0</th>\n",
       "      <td>A</td>\n",
       "      <td>14069</td>\n",
       "      <td>27.82</td>\n",
       "      <td>21.43</td>\n",
       "      <td>44.87</td>\n",
       "      <td>5.11</td>\n",
       "      <td>1.77</td>\n",
       "      <td>0.77</td>\n",
       "      <td>4.93</td>\n",
       "    </tr>\n",
       "    <tr>\n",
       "      <th>1</th>\n",
       "      <td>A</td>\n",
       "      <td>14053</td>\n",
       "      <td>28.49</td>\n",
       "      <td>21.26</td>\n",
       "      <td>43.89</td>\n",
       "      <td>5.34</td>\n",
       "      <td>1.79</td>\n",
       "      <td>1.02</td>\n",
       "      <td>4.84</td>\n",
       "    </tr>\n",
       "    <tr>\n",
       "      <th>2</th>\n",
       "      <td>A</td>\n",
       "      <td>14025</td>\n",
       "      <td>28.35</td>\n",
       "      <td>19.99</td>\n",
       "      <td>45.78</td>\n",
       "      <td>5.08</td>\n",
       "      <td>1.63</td>\n",
       "      <td>0.80</td>\n",
       "      <td>4.95</td>\n",
       "    </tr>\n",
       "    <tr>\n",
       "      <th>3</th>\n",
       "      <td>A</td>\n",
       "      <td>14016</td>\n",
       "      <td>30.55</td>\n",
       "      <td>20.15</td>\n",
       "      <td>43.13</td>\n",
       "      <td>4.79</td>\n",
       "      <td>1.61</td>\n",
       "      <td>1.38</td>\n",
       "      <td>4.74</td>\n",
       "    </tr>\n",
       "    <tr>\n",
       "      <th>4</th>\n",
       "      <td>A</td>\n",
       "      <td>14005</td>\n",
       "      <td>30.49</td>\n",
       "      <td>21.28</td>\n",
       "      <td>41.65</td>\n",
       "      <td>4.82</td>\n",
       "      <td>1.64</td>\n",
       "      <td>1.76</td>\n",
       "      <td>4.67</td>\n",
       "    </tr>\n",
       "  </tbody>\n",
       "</table>\n",
       "</div>"
      ],
      "text/plain": [
       "  brand     id   mois   prot    fat   ash  sodium  carb   cal\n",
       "0     A  14069  27.82  21.43  44.87  5.11    1.77  0.77  4.93\n",
       "1     A  14053  28.49  21.26  43.89  5.34    1.79  1.02  4.84\n",
       "2     A  14025  28.35  19.99  45.78  5.08    1.63  0.80  4.95\n",
       "3     A  14016  30.55  20.15  43.13  4.79    1.61  1.38  4.74\n",
       "4     A  14005  30.49  21.28  41.65  4.82    1.64  1.76  4.67"
      ]
     },
     "execution_count": 12,
     "metadata": {},
     "output_type": "execute_result"
    }
   ],
   "source": [
    "# Exploring the dataset\n",
    "print(\"Dataset Overview:\")\n",
    "df.head()"
   ]
  },
  {
   "cell_type": "code",
   "execution_count": 13,
   "id": "44c9839a",
   "metadata": {},
   "outputs": [],
   "source": [
    "# Extracting numerical features for PCA\n",
    "numerical_features = df[['mois', 'prot', 'fat', 'ash', 'sodium', 'carb', 'cal']]"
   ]
  },
  {
   "cell_type": "code",
   "execution_count": 14,
   "id": "83e8d7be",
   "metadata": {},
   "outputs": [
    {
     "name": "stdout",
     "output_type": "stream",
     "text": [
      "Mean Vector:\n",
      "mois      40.903067\n",
      "prot      13.373567\n",
      "fat       20.229533\n",
      "ash        2.633233\n",
      "sodium     0.669400\n",
      "carb      22.864767\n",
      "cal        3.271000\n",
      "dtype: float64\n",
      "\n",
      "Covariance Matrix:\n",
      "[[ 9.12595538e+01  2.21435833e+01 -1.46895678e+01  3.22109607e+00\n",
      "  -3.61865043e-01 -1.01930554e+02 -4.52791813e+00]\n",
      " [ 2.21435833e+01  4.14014050e+01  2.87610441e+01  6.73072020e+00\n",
      "   1.02262723e+00 -9.90197003e+01  2.80297759e-01]\n",
      " [-1.46895678e+01  2.87610441e+01  8.05624419e+01  9.02193931e+00\n",
      "   3.10256393e+00 -1.03608864e+02  4.25498074e+00]\n",
      " [ 3.22109607e+00  6.73072020e+00  9.02193931e+00  1.61219787e+00\n",
      "   3.80021010e-01 -2.05803278e+01  2.57019498e-01]\n",
      " [-3.61865043e-01  1.02262723e+00  3.10256393e+00  3.80021010e-01\n",
      "   1.37164856e-01 -4.14119479e+00  1.54304615e-01]\n",
      " [-1.01930554e+02 -9.90197003e+01 -1.03608864e+02 -2.05803278e+01\n",
      "  -4.14119479e+00  3.25070892e+02 -2.62535217e-01]\n",
      " [-4.52791813e+00  2.80297759e-01  4.25498074e+00  2.57019498e-01\n",
      "   1.54304615e-01 -2.62535217e-01  3.84442475e-01]]\n",
      "\n",
      "Matrix Multiplication Result:\n",
      "[[  874.68529962   922.11905681   874.60414965 ...    25.57684688\n",
      "    457.87557245   268.96205752]\n",
      " [ 2958.60534673  2915.00585177  2933.58589845 ...  -447.84759971\n",
      "   -280.11666246  -409.59317444]\n",
      " [ 4731.02480955  4613.19416151  4751.40707375 ...  -786.05924013\n",
      "   -761.49393337  -844.35789865]\n",
      " ...\n",
      " [  182.26856673   177.85271989   183.27577476 ...   -29.80228053\n",
      "    -27.96053216   -31.41698133]\n",
      " [-9255.48366905 -9128.93205238 -9250.25850764 ...  1314.48279468\n",
      "    660.87365593  1085.97236318]\n",
      " [  173.58681534   166.2975454    174.62592199 ...   -36.05402068\n",
      "    -53.34917642   -48.94936602]]\n"
     ]
    }
   ],
   "source": [
    "# Computing the mean vector\n",
    "mean_vector = np.mean(numerical_features, axis=0)\n",
    "print(\"Mean Vector:\")\n",
    "print(mean_vector)\n",
    "\n",
    "standardized_features = (numerical_features - mean_vector)\n",
    "\n",
    "# Computing the covariance matrix\n",
    "covariance_matrix = np.dot(standardized_features.T,standardized_features)/(len(standardized_features)-1)\n",
    "print(\"\\nCovariance Matrix:\")\n",
    "print(covariance_matrix)\n",
    "\n",
    "\n",
    "# Matrix multiplication\n",
    "# For illustration, we'll multiply the covariance matrix by the transpose of the numerical features matrix\n",
    "matrix_multiplication_result = np.dot(covariance_matrix, standardized_features.T)\n",
    "print(\"\\nMatrix Multiplication Result:\")\n",
    "print(matrix_multiplication_result)\n"
   ]
  },
  {
   "cell_type": "code",
   "execution_count": 15,
   "id": "17c69bcf",
   "metadata": {},
   "outputs": [
    {
     "name": "stdout",
     "output_type": "stream",
     "text": [
      "\n",
      "Eigenvalues:\n",
      "[2.43831676e-04 1.03716597e-03 8.37373155e-03 1.84426332e-01\n",
      " 1.68252524e+01 1.01820224e+02 4.21588540e+02]\n",
      "\n",
      "Eigenvectors:\n",
      "[[ 6.98915671e-02  4.40973897e-01 -5.94747417e-02 -1.95899801e-01\n",
      "  -3.52016178e-01 -7.47073681e-01 -2.76963426e-01]\n",
      " [ 2.99036492e-02  4.43489799e-01 -8.37192422e-02 -2.55747087e-01\n",
      "   8.09717965e-01  5.57329479e-02 -2.66941457e-01]\n",
      " [-1.98207032e-02  4.48624300e-01 -3.57756435e-02 -2.59802148e-01\n",
      "  -4.67976440e-01  6.57845306e-01 -2.78933559e-01]\n",
      " [ 7.00433927e-02  4.50220250e-01  1.66633512e-01  8.71443239e-01\n",
      "   2.22252811e-02  4.06042105e-02 -5.54340960e-02]\n",
      " [ 2.56524121e-03 -3.04634491e-02 -9.78316010e-01  2.01452647e-01\n",
      "  -2.62446886e-02  2.38137604e-02 -1.11416057e-02]\n",
      " [ 2.99769686e-02  4.44405399e-01 -5.74696813e-02 -1.64524607e-01\n",
      "  -1.24692885e-02 -6.81755096e-03  8.78084364e-01]\n",
      " [ 9.93990344e-01 -8.04524971e-02 -1.49699419e-03 -4.06780739e-02\n",
      "  -1.00622712e-02  6.12538275e-02 -6.03287596e-04]]\n"
     ]
    }
   ],
   "source": [
    "# Computing the eigenvalues and eigenvectors of the covariance matrix\n",
    "eigenvalues, eigenvectors = np.linalg.eigh(covariance_matrix)\n",
    "\n",
    "print(\"\\nEigenvalues:\")\n",
    "print(eigenvalues)\n",
    "print(\"\\nEigenvectors:\")\n",
    "print(eigenvectors)\n"
   ]
  },
  {
   "cell_type": "code",
   "execution_count": 16,
   "id": "391976a9",
   "metadata": {},
   "outputs": [
    {
     "data": {
      "image/png": "[encoded data removed]",
      "text/plain": [
       "<Figure size 576x432 with 1 Axes>"
      ]
     },
     "metadata": {
      "needs_background": "light"
     },
     "output_type": "display_data"
    }
   ],
   "source": [
    "# Performing PCA\n",
    "# We'll use the eigenvectors as the transformation matrix\n",
    "index = np.argsort(eigenvalues)[::-1]\n",
    "eigenvectors = eigenvectors[:, index]\n",
    "\n",
    "pca_result = np.dot(standardized_features, eigenvectors)[:,0:2]\n",
    "\n",
    "# # Visualize PCA Results\n",
    "plt.figure(figsize=(8, 6))\n",
    "plt.scatter(pca_result[:, 0], pca_result[:, 1])\n",
    "plt.title(\"PCA Visualization of Pizza Dataset\")\n",
    "plt.xlabel(\"Principal Component 1\")\n",
    "plt.ylabel(\"Principal Component 2\")\n",
    "plt.show()\n",
    "\n"
   ]
  },
  {
   "cell_type": "markdown",
   "id": "56fb2800",
   "metadata": {},
   "source": [
    "### Interpretation\n",
    "The presence of seven clusters indicates that the nutrient composition of pizzas varies significantly across different brands or types. The clusters may correspond to distinct pizza categories, such as vegetarian, meat lovers, Hawaiian, thin crust, deep dish, etc. Furthermore, the proximity of data points within each cluster suggests a high degree of similarity in nutrient profiles among pizzas within the same category.\n",
    "\n",
    "### Implications\n",
    "Understanding the clustering pattern revealed by PCA can provide valuable insights for various stakeholders in the pizza industry. For pizza manufacturers, it can guide product development efforts by identifying popular nutrient profiles and flavor combinations. For consumers, it can facilitate informed decision-making by offering insights into the nutritional content of different pizza options. Additionally, for marketers and retailers, it can inform product positioning and marketing strategies based on consumer preferences and trends.\n",
    "\n",
    "### Conclusion\n",
    "In conclusion, the PCA analysis of the pizza dataset reveals significant clustering patterns in the nutrient composition of pizzas. By identifying six distinct clusters, PCA provides valuable insights into the underlying structure of the dataset and offers opportunities for data-driven decision-making in the pizza industry.\n"
   ]
  },
  {
   "cell_type": "code",
   "execution_count": 17,
   "id": "6e615627",
   "metadata": {},
   "outputs": [
    {
     "data": {
      "image/png": "[encoded data removed]",
      "text/plain": [
       "<Figure size 1152x432 with 2 Axes>"
      ]
     },
     "metadata": {
      "needs_background": "light"
     },
     "output_type": "display_data"
    }
   ],
   "source": [
    "# Comparison to PCA with scikit-learn\n",
    "pca = PCA(n_components=2)\n",
    "X_pca = pca.fit_transform(numerical_features)\n",
    "\n",
    "\n",
    "fig, ax = plt.subplots(1, 2, figsize=(16, 6))\n",
    "\n",
    "\n",
    "ax[0].scatter(pca_result[:, 0], pca_result[:, 1])\n",
    "ax[0].set_title(\"PCA Visualization of Pizza Dataset\")\n",
    "ax[0].set_xlabel(\"Principal Component 1\")\n",
    "ax[0].set_ylabel(\"Principal Component 2\")\n",
    "\n",
    "\n",
    "ax[1].scatter(X_pca[:, 0], X_pca[:, 1])\n",
    "ax[1].set_title(\" Scikit-Learn PCA Visualization of Pizza Dataset\")\n",
    "ax[1].set_xlabel(\"Principal Component 1\")\n",
    "ax[1].set_ylabel(\"Principal Component 2\")\n",
    "\n",
    "\n",
    "plt.tight_layout()\n",
    "\n",
    "\n",
    "plt.show()"
   ]
  }
 ],
 "metadata": {
  "kernelspec": {
   "display_name": "Python 3 (ipykernel)",
   "language": "python",
   "name": "python3"
  },
  "language_info": {
   "codemirror_mode": {
    "name": "ipython",
    "version": 3
   },
   "file_extension": ".py",
   "mimetype": "text/x-python",
   "name": "python",
   "nbconvert_exporter": "python",
   "pygments_lexer": "ipython3",
   "version": "3.12.3"
  }
 },
 "nbformat": 4,
 "nbformat_minor": 5
}
