{
 "cells": [
  {
   "cell_type": "markdown",
   "id": "a11aa848",
   "metadata": {},
   "source": [
    "# Introduction to Linear Algebra - Week 1 Assignment\n",
    "\n",
    "## Part II: Python Solutions\n",
    "\n",
    "### 1. Operations on Vectors\n",
    "\n",
    "#### Given vectors $ \\mathbf{v} = [2, 4, 6, 8, 10] $ and $\\mathbf{u} = [1, 3, 5, 7, 9] $.\n",
    "\n",
    "- Component-wise Division $ \\dfrac{\\mathbf{v}}{\\mathbf{u}} $\n",
    "\n",
    "This requires dividing each component of $ \\mathbf{v} $ by the corresponding component of $\\mathbf{u} $.\n"
   ]
  },
  {
   "cell_type": "code",
   "execution_count": 1,
   "id": "19531dbb",
   "metadata": {},
   "outputs": [
    {
     "name": "stdout",
     "output_type": "stream",
     "text": [
      "[2.         1.33333333 1.2        1.14285714 1.11111111]\n"
     ]
    }
   ],
   "source": [
    "import numpy as np\n",
    "v = np.array([2, 4, 6, 8, 10])\n",
    "u = np.array([1, 3, 5, 7, 9])\n",
    "v_div_u = v / u\n",
    "print(v_div_u)"
   ]
  },
  {
   "cell_type": "markdown",
   "id": "f19f36bb",
   "metadata": {},
   "source": [
    "- Vector Operations $ 3\\mathbf{v} - 2\\mathbf{u} + \\frac{1}{2}\\mathbf{v} $\n",
    "\n",
    "We calculate the operation using scalar multiplication and addition:"
   ]
  },
  {
   "cell_type": "code",
   "execution_count": 2,
   "id": "d271a062",
   "metadata": {
    "scrolled": false
   },
   "outputs": [
    {
     "name": "stdout",
     "output_type": "stream",
     "text": [
      "[ 5.  8. 11. 14. 17.]\n"
     ]
    }
   ],
   "source": [
    "oper = 3*v - 2*u + 0.5*v\n",
    "print(oper)"
   ]
  },
  {
   "cell_type": "markdown",
   "id": "903d0fd6",
   "metadata": {},
   "source": [
    "####  b. Euclidean Norm of a Vector\n",
    "\n",
    "Given $ \\mathbf{v} = [8, 0, 5, 2, 1] $, the Euclidean norm $ \\|\\mathbf{v}\\| $ is calculated as follows:"
   ]
  },
  {
   "cell_type": "code",
   "execution_count": 3,
   "id": "e5ec4128",
   "metadata": {},
   "outputs": [
    {
     "name": "stdout",
     "output_type": "stream",
     "text": [
      "9.695359714832659\n"
     ]
    }
   ],
   "source": [
    "v = np.array([8, 0, 5, 2, 1])\n",
    "norm_v = np.linalg.norm(v)\n",
    "print(norm_v)"
   ]
  },
  {
   "cell_type": "markdown",
   "id": "e058aa3d",
   "metadata": {},
   "source": [
    "### 2. Determinant of a Matrix\n",
    "\n",
    "Given the matrix $ A = \\begin{pmatrix} 2 & 3 & 7 \\\\ -4 & 0 & 6 \\\\ 1 & 5 & 0 \\end{pmatrix} $\n",
    "\n",
    "We need to calculate the determinant of $ A $."
   ]
  },
  {
   "cell_type": "code",
   "execution_count": 4,
   "id": "84ebeab1",
   "metadata": {},
   "outputs": [
    {
     "name": "stdout",
     "output_type": "stream",
     "text": [
      "-181.99999999999997\n"
     ]
    }
   ],
   "source": [
    "A = np.array([[2, 3, 7], [-4, 0, 6], [1, 5, 0]])\n",
    "det_A = np.linalg.det(A)\n",
    "print(det_A)"
   ]
  },
  {
   "cell_type": "markdown",
   "id": "aeec8004",
   "metadata": {},
   "source": [
    "### 3. Eigenvalue and Eigenvector Calculation for Matrix \n",
    "\n",
    "#### 3a. Matrix $B$\n",
    "Given the matrix:\n",
    "$$ B = \\begin{pmatrix} 3 & 2 & 4 \\\\ 2 & 0 & 2 \\\\ 4 & 2 & 3 \\end{pmatrix} $$\n",
    "\n",
    "- Finding Eigenvalues and Eigenvectors"
   ]
  },
  {
   "cell_type": "code",
   "execution_count": 5,
   "id": "24aae235",
   "metadata": {
    "scrolled": false
   },
   "outputs": [
    {
     "name": "stdout",
     "output_type": "stream",
     "text": [
      "Eigenvalues: [-1.  8. -1.]\n",
      "Eigenvectors:\n",
      " [[-0.74535599  0.66666667 -0.21539222]\n",
      " [ 0.2981424   0.33333333 -0.77010996]\n",
      " [ 0.59628479  0.66666667  0.6004472 ]]\n"
     ]
    }
   ],
   "source": [
    "B = np.array([[3, 2, 4], [2, 0, 2], [4, 2, 3]])\n",
    "eigenvalues, eigenvectors = np.linalg.eig(B)\n",
    "print(\"Eigenvalues:\", eigenvalues)\n",
    "print(\"Eigenvectors:\\n\", eigenvectors)"
   ]
  },
  {
   "cell_type": "markdown",
   "id": "f67daa5e",
   "metadata": {},
   "source": [
    "#### 3b. Matrix $D$\n",
    "\n",
    "#### Given Matrix and Vectors:\n",
    "\n",
    "- Matrix $D $:\n",
    "  \n",
    "  $$\n",
    "  D = \\begin{pmatrix}\n",
    "  3 & 1 & 2 \\\\\n",
    "  1 & 3 & 1 \\\\\n",
    "  2 & 1 & 3\n",
    "  \\end{pmatrix}\n",
    "  $$\n",
    "\n",
    "- Vector $ \\mathbf{v}_1 = [1, 1, 1] $\n",
    "\n",
    "- Vector $\\mathbf{v}_2 = [-1, 1, -1] $\n",
    "\n",
    "#### Task:\n",
    "Check if $ \\mathbf{v}_1 $ and $ \\mathbf{v}_2 $ are eigenvectors of matrix $ D $ and print the results along with any corresponding eigenvalues."
   ]
  },
  {
   "cell_type": "code",
   "execution_count": 12,
   "id": "6f20c5e8",
   "metadata": {},
   "outputs": [
    {
     "name": "stdout",
     "output_type": "stream",
     "text": [
      "D * v1: [6 5 6]\n",
      "D * v2: [-4  1 -4]\n"
     ]
    }
   ],
   "source": [
    "D = np.array([[3, 1, 2], [1, 3, 1], [2, 1, 3]])\n",
    "v1 = np.array([1, 1, 1])\n",
    "v2 = np.array([-1, 1, -1])\n",
    "Dv1 = D.dot(v1)\n",
    "Dv2 = D.dot(v2)\n",
    "print(\"D * v1:\", Dv1)\n",
    "print(\"D * v2:\", Dv2)"
   ]
  },
  {
   "cell_type": "markdown",
   "id": "2bdcd227",
   "metadata": {},
   "source": [
    "Neither $ \\mathbf{v}_1 $ nor $\\mathbf{v}_2 $ are eigenvectors of the matrix $ D $ because there is not value of $\\lambda$ that can satisfy the values of $D\\cdot \\mathbf{v_1}= \\lambda\\cdot \\mathbf{v_1}$ and $D\\cdot \\mathbf{v_2} = \\lambda\\cdot \\mathbf{v_2}$."
   ]
  },
  {
   "cell_type": "code",
   "execution_count": 13,
   "id": "279f13e0",
   "metadata": {},
   "outputs": [
    {
     "name": "stdout",
     "output_type": "stream",
     "text": [
      "v1 is an eigenvector of D: False with eigenvalue: None\n",
      "v2 is an eigenvector of D: False with eigenvalue: None\n"
     ]
    }
   ],
   "source": [
    "def is_eigenvector(matrix, vector):\n",
    "    result = np.dot(matrix, vector)\n",
    "    \n",
    "    lambda_candidates = result / vector\n",
    "    \n",
    "    if np.allclose(lambda_candidates, lambda_candidates[0]):\n",
    "        return True, lambda_candidates[0]  # It is an eigenvector, return True and the eigenvalue\n",
    "    else:\n",
    "        return False, None  # It is not an eigenvector\n",
    "\n",
    "# Check for v1\n",
    "is_v1_eigen, lambda_v1 = is_eigenvector(D, v1)\n",
    "print(\"v1 is an eigenvector of D:\", is_v1_eigen, \"with eigenvalue:\", lambda_v1)\n",
    "\n",
    "# Check for v2\n",
    "is_v2_eigen, lambda_v2 = is_eigenvector(D, v2)\n",
    "print(\"v2 is an eigenvector of D:\", is_v2_eigen, \"with eigenvalue:\", lambda_v2)"
   ]
  },
  {
   "cell_type": "markdown",
   "id": "72589747",
   "metadata": {},
   "source": [
    "### 4. PCA and Variance Calculation\n",
    "\n",
    "Steps to perform PCA on given dataset $ X = \\{ (4, 2, 3), (3, 13, 4), (9, 4, 5), (0, 5, 7) \\} $:\n",
    "\n",
    "#### Step 1: Standardization\n",
    "\n",
    "Calculate mean and standard deviation for each feature, and standardize the dataset."
   ]
  },
  {
   "cell_type": "code",
   "execution_count": 6,
   "id": "0891ffe1",
   "metadata": {},
   "outputs": [],
   "source": [
    "X = np.array([[4, 2, 3], [3, 13, 4], [9, 4, 5], [0, 5, 7]])\n",
    "means = np.mean(X, axis=0)\n",
    "stds = np.std(X, axis=0)\n",
    "Z = (X - means) / stds"
   ]
  },
  {
   "cell_type": "markdown",
   "id": "93d96907",
   "metadata": {},
   "source": [
    "#### Step 2: Compute Covariance Matrix"
   ]
  },
  {
   "cell_type": "code",
   "execution_count": 7,
   "id": "cf6c7861",
   "metadata": {},
   "outputs": [],
   "source": [
    "cov_matrix = np.cov(Z, rowvar=False)"
   ]
  },
  {
   "cell_type": "markdown",
   "id": "6b1d0400",
   "metadata": {},
   "source": [
    "#### Step 3: Eigenvalue and Eigenvector Computation"
   ]
  },
  {
   "cell_type": "code",
   "execution_count": 8,
   "id": "fb25d16c",
   "metadata": {},
   "outputs": [],
   "source": [
    "eigenvalues, eigenvectors = np.linalg.eig(cov_matrix)"
   ]
  },
  {
   "cell_type": "markdown",
   "id": "5d548095",
   "metadata": {},
   "source": [
    "#### Step 4 and 5: Feature Vector and Data Recasting\n",
    "\n",
    "Select largest eigenvalues and corresponding eigenvectors, then transform the dataset."
   ]
  },
  {
   "cell_type": "code",
   "execution_count": 9,
   "id": "60252088",
   "metadata": {
    "scrolled": false
   },
   "outputs": [
    {
     "name": "stdout",
     "output_type": "stream",
     "text": [
      "[[ 1.09646687 -1.04315003]\n",
      " [-0.1830494   0.51600533]\n",
      " [-0.96806447 -1.18256916]\n",
      " [ 0.054647    1.70971385]]\n"
     ]
    }
   ],
   "source": [
    "# Select top 2 eigenvectors\n",
    "feature_vector = eigenvectors[:, :2]\n",
    "pca_result = np.dot(Z, feature_vector)\n",
    "print(pca_result)"
   ]
  },
  {
   "cell_type": "markdown",
   "id": "0a52d90b",
   "metadata": {},
   "source": [
    "#### Variance Explained\n",
    "\n",
    "Calculate the percentage of variance explained by each principal component."
   ]
  },
  {
   "cell_type": "code",
   "execution_count": 10,
   "id": "82951ebe",
   "metadata": {},
   "outputs": [
    {
     "name": "stdout",
     "output_type": "stream",
     "text": [
      "[18.13234827367028, 47.30012301758761, 34.56752870874211]\n"
     ]
    }
   ],
   "source": [
    "total_variance = sum(eigenvalues)\n",
    "variance_explained = [(i / total_variance) * 100 for i in eigenvalues]\n",
    "print(variance_explained)\n"
   ]
  },
  {
   "cell_type": "markdown",
   "id": "5bf2fd00",
   "metadata": {},
   "source": [
    "### Question 4 (sklearn PCA)"
   ]
  },
  {
   "cell_type": "code",
   "execution_count": 11,
   "id": "a662d0fd",
   "metadata": {},
   "outputs": [
    {
     "name": "stdout",
     "output_type": "stream",
     "text": [
      "PCA transformed data:\n",
      " [[-3.75915536  1.06811586]\n",
      " [ 6.85288785 -1.82352429]\n",
      " [-3.69939144 -3.72913197]\n",
      " [ 0.60565895  4.48454039]]\n",
      "Variance explained by each component: [0.62232415 0.31870509]\n"
     ]
    }
   ],
   "source": [
    "from sklearn.decomposition import PCA\n",
    "pca = PCA(n_components=2)\n",
    "X_pca = pca.fit_transform(X)\n",
    "variance_explained = pca.explained_variance_ratio_\n",
    "print(\"PCA transformed data:\\n\", X_pca)\n",
    "print(\"Variance explained by each component:\", variance_explained) # This gives the variance for only the top 2 eigenvectors"
   ]
  }
 ],
 "metadata": {
  "kernelspec": {
   "display_name": "Python 3 (ipykernel)",
   "language": "python",
   "name": "python3"
  },
  "language_info": {
   "codemirror_mode": {
    "name": "ipython",
    "version": 3
   },
   "file_extension": ".py",
   "mimetype": "text/x-python",
   "name": "python",
   "nbconvert_exporter": "python",
   "pygments_lexer": "ipython3",
   "version": "3.10.12"
  }
 },
 "nbformat": 4,
 "nbformat_minor": 5
}
